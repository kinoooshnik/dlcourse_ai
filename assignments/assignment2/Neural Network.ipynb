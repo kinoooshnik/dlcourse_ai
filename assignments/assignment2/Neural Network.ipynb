{
 "cells": [
  {
   "cell_type": "markdown",
   "metadata": {},
   "source": [
    "# Задание 2.1 - Нейронные сети\n",
    "\n",
    "В этом задании вы реализуете и натренируете настоящую нейроную сеть своими руками!\n",
    "\n",
    "В некотором смысле это будет расширением прошлого задания - нам нужно просто составить несколько линейных классификаторов вместе!\n",
    "\n",
    "<img src=\"https://i.redd.it/n9fgba8b0qr01.png\" alt=\"Stack_more_layers\" width=\"400px\"/>"
   ]
  },
  {
   "cell_type": "code",
   "execution_count": 1,
   "metadata": {},
   "outputs": [],
   "source": [
    "import numpy as np\n",
    "import matplotlib.pyplot as plt\n",
    "\n",
    "%matplotlib inline\n",
    "\n",
    "%load_ext autoreload\n",
    "%autoreload 2"
   ]
  },
  {
   "cell_type": "code",
   "execution_count": 2,
   "metadata": {},
   "outputs": [],
   "source": [
    "from dataset import load_svhn, random_split_train_val\n",
    "from gradient_check import check_layer_gradient, check_layer_param_gradient, check_model_gradient\n",
    "from layers import FullyConnectedLayer, ReLULayer\n",
    "from model import TwoLayerNet\n",
    "from trainer import Trainer, Dataset\n",
    "from optim import SGD, MomentumSGD\n",
    "from metrics import multiclass_accuracy"
   ]
  },
  {
   "cell_type": "markdown",
   "metadata": {},
   "source": [
    "# Загружаем данные\n",
    "\n",
    "И разделяем их на training и validation."
   ]
  },
  {
   "cell_type": "code",
   "execution_count": 3,
   "metadata": {},
   "outputs": [],
   "source": [
    "def prepare_for_neural_network(train_X, test_X):\n",
    "    train_flat = train_X.reshape(train_X.shape[0], -1).astype(np.float) / 255.0\n",
    "    test_flat = test_X.reshape(test_X.shape[0], -1).astype(np.float) / 255.0\n",
    "    \n",
    "    # Subtract mean\n",
    "    mean_image = np.mean(train_flat, axis = 0)\n",
    "    train_flat -= mean_image\n",
    "    test_flat -= mean_image\n",
    "    \n",
    "    return train_flat, test_flat\n",
    "    \n",
    "train_X, train_y, test_X, test_y = load_svhn(\"data\", max_train=10000, max_test=1000)    \n",
    "train_X, test_X = prepare_for_neural_network(train_X, test_X)\n",
    "# Split train into train and val\n",
    "train_X, train_y, val_X, val_y = random_split_train_val(train_X, train_y, num_val = 1000)"
   ]
  },
  {
   "cell_type": "markdown",
   "metadata": {},
   "source": [
    "# Как всегда, начинаем с кирпичиков\n",
    "\n",
    "Мы будем реализовывать необходимые нам слои по очереди. Каждый слой должен реализовать:\n",
    "- прямой проход (forward pass), который генерирует выход слоя по входу и запоминает необходимые данные\n",
    "- обратный проход (backward pass), который получает градиент по выходу слоя и вычисляет градиент по входу и по параметрам\n",
    "\n",
    "Начнем с ReLU, у которого параметров нет."
   ]
  },
  {
   "cell_type": "code",
   "execution_count": 6,
   "metadata": {},
   "outputs": [
    {
     "name": "stdout",
     "output_type": "stream",
     "text": [
      "Gradient check passed!\n"
     ]
    }
   ],
   "source": [
    "# TODO: Implement ReLULayer layer in layers.py\n",
    "# Note: you'll need to copy implementation of the gradient_check function from the previous assignment\n",
    "\n",
    "X = np.array([[1,-2,3],\n",
    "              [-1, 2, 0.1]\n",
    "              ])\n",
    "\n",
    "assert check_layer_gradient(ReLULayer(), X)"
   ]
  },
  {
   "cell_type": "markdown",
   "metadata": {},
   "source": [
    "А теперь реализуем полносвязный слой (fully connected layer), у которого будет два массива параметров: W (weights) и B (bias).\n",
    "\n",
    "Все параметры наши слои будут использовать для параметров специальный класс `Param`, в котором будут храниться значения параметров и градиенты этих параметров, вычисляемые во время обратного прохода.\n",
    "\n",
    "Это даст возможность аккумулировать (суммировать) градиенты из разных частей функции потерь, например, из cross-entropy loss и regularization loss."
   ]
  },
  {
   "cell_type": "code",
   "execution_count": 11,
   "metadata": {},
   "outputs": [
    {
     "name": "stdout",
     "output_type": "stream",
     "text": [
      "Gradient check passed!\n",
      "Gradient check passed!\n",
      "Gradient check passed!\n"
     ]
    }
   ],
   "source": [
    "# TODO: Implement FullyConnected layer forward and backward methods\n",
    "assert check_layer_gradient(FullyConnectedLayer(3, 4), X)\n",
    "# TODO: Implement storing gradients for W and B\n",
    "assert check_layer_param_gradient(FullyConnectedLayer(3, 4), X, 'W')\n",
    "assert check_layer_param_gradient(FullyConnectedLayer(3, 4), X, 'B')"
   ]
  },
  {
   "cell_type": "markdown",
   "metadata": {},
   "source": [
    "## Создаем нейронную сеть\n",
    "\n",
    "Теперь мы реализуем простейшую нейронную сеть с двумя полносвязным слоями и нелинейностью ReLU. Реализуйте функцию `compute_loss_and_gradients`, она должна запустить прямой и обратный проход через оба слоя для вычисления градиентов.\n",
    "\n",
    "Не забудьте реализовать очистку градиентов в начале функции."
   ]
  },
  {
   "cell_type": "code",
   "execution_count": 12,
   "metadata": {},
   "outputs": [
    {
     "name": "stdout",
     "output_type": "stream",
     "text": [
      "Checking gradient for W1\n",
      "Gradient check passed!\n",
      "Checking gradient for B1\n",
      "Gradient check passed!\n",
      "Checking gradient for W2\n",
      "Gradient check passed!\n",
      "Checking gradient for B2\n",
      "Gradient check passed!\n"
     ]
    },
    {
     "data": {
      "text/plain": [
       "True"
      ]
     },
     "execution_count": 12,
     "metadata": {},
     "output_type": "execute_result"
    }
   ],
   "source": [
    "# TODO: In model.py, implement compute_loss_and_gradients function\n",
    "model = TwoLayerNet(n_input = train_X.shape[1], n_output = 10, hidden_layer_size = 3, reg = 0)\n",
    "loss = model.compute_loss_and_gradients(train_X[:2], train_y[:2])\n",
    "\n",
    "# TODO Now implement backward pass and aggregate all of the params\n",
    "check_model_gradient(model, train_X[:2], train_y[:2])"
   ]
  },
  {
   "cell_type": "markdown",
   "metadata": {},
   "source": [
    "Теперь добавьте к модели регуляризацию - она должна прибавляться к loss и делать свой вклад в градиенты."
   ]
  },
  {
   "cell_type": "code",
   "execution_count": 13,
   "metadata": {},
   "outputs": [
    {
     "name": "stdout",
     "output_type": "stream",
     "text": [
      "Checking gradient for W1\n",
      "Gradient check passed!\n",
      "Checking gradient for B1\n",
      "Gradient check passed!\n",
      "Checking gradient for W2\n",
      "Gradient check passed!\n",
      "Checking gradient for B2\n",
      "Gradient check passed!\n"
     ]
    },
    {
     "data": {
      "text/plain": [
       "True"
      ]
     },
     "execution_count": 13,
     "metadata": {},
     "output_type": "execute_result"
    }
   ],
   "source": [
    "# TODO Now implement l2 regularization in the forward and backward pass\n",
    "model_with_reg = TwoLayerNet(n_input = train_X.shape[1], n_output = 10, hidden_layer_size = 3, reg = 1e1)\n",
    "loss_with_reg = model_with_reg.compute_loss_and_gradients(train_X[:2], train_y[:2])\n",
    "assert loss_with_reg > loss and not np.isclose(loss_with_reg, loss), \\\n",
    "    \"Loss with regularization (%2.4f) should be higher than without it (%2.4f)!\" % (loss, loss_with_reg)\n",
    "\n",
    "check_model_gradient(model_with_reg, train_X[:2], train_y[:2])"
   ]
  },
  {
   "cell_type": "markdown",
   "metadata": {},
   "source": [
    "Также реализуем функцию предсказания (вычисления значения) модели на новых данных.\n",
    "\n",
    "Какое значение точности мы ожидаем увидеть до начала тренировки?"
   ]
  },
  {
   "cell_type": "code",
   "execution_count": 15,
   "metadata": {},
   "outputs": [
    {
     "data": {
      "text/plain": [
       "0.13333333333333333"
      ]
     },
     "execution_count": 15,
     "metadata": {},
     "output_type": "execute_result"
    }
   ],
   "source": [
    "# Finally, implement predict function!\n",
    "\n",
    "# TODO: Implement predict function\n",
    "# What would be the value we expect?\n",
    "multiclass_accuracy(model_with_reg.predict(train_X[:30]), train_y[:30]) "
   ]
  },
  {
   "cell_type": "markdown",
   "metadata": {},
   "source": [
    "# Допишем код для процесса тренировки\n",
    "\n",
    "Если все реализовано корректно, значение функции ошибки должно уменьшаться с каждой эпохой, пусть и медленно. Не беспокойтесь пока про validation accuracy."
   ]
  },
  {
   "cell_type": "code",
   "execution_count": 39,
   "metadata": {},
   "outputs": [
    {
     "name": "stdout",
     "output_type": "stream",
     "text": [
      "Loss: 46.029808, Train accuracy: 0.196667, val accuracy: 0.206000\n",
      "Loss: 46.046627, Train accuracy: 0.196667, val accuracy: 0.206000\n",
      "Loss: 46.042978, Train accuracy: 0.196667, val accuracy: 0.206000\n",
      "Loss: 46.039918, Train accuracy: 0.196667, val accuracy: 0.206000\n",
      "Loss: 46.043920, Train accuracy: 0.148222, val accuracy: 0.140000\n"
     ]
    }
   ],
   "source": [
    "model = TwoLayerNet(n_input = train_X.shape[1], n_output = 10, hidden_layer_size = 100, reg = 1e1)\n",
    "dataset = Dataset(train_X, train_y, val_X, val_y)\n",
    "trainer = Trainer(model, dataset, SGD(), learning_rate = 1e-2, num_epochs=5)\n",
    "\n",
    "# TODO Implement missing pieces in Trainer.fit function\n",
    "# You should expect loss to go down every epoch, even if it's slow\n",
    "loss_history, train_history, val_history = trainer.fit()"
   ]
  },
  {
   "cell_type": "code",
   "execution_count": 40,
   "metadata": {},
   "outputs": [
    {
     "data": {
      "text/plain": [
       "[<matplotlib.lines.Line2D at 0x7fdca603ff70>]"
      ]
     },
     "execution_count": 40,
     "metadata": {},
     "output_type": "execute_result"
    },
    {
     "data": {
      "image/png": "[encoded data removed]",
      "text/plain": [
       "<Figure size 432x288 with 1 Axes>"
      ]
     },
     "metadata": {
      "needs_background": "light"
     },
     "output_type": "display_data"
    }
   ],
   "source": [
    "plt.plot(loss_history)"
   ]
  },
  {
   "cell_type": "code",
   "execution_count": 41,
   "metadata": {},
   "outputs": [
    {
     "data": {
      "text/plain": [
       "[<matplotlib.lines.Line2D at 0x7fdca5cdffd0>]"
      ]
     },
     "execution_count": 41,
     "metadata": {},
     "output_type": "execute_result"
    },
    {
     "data": {
      "image/png": "[encoded data removed]",
      "text/plain": [
       "<Figure size 432x288 with 1 Axes>"
      ]
     },
     "metadata": {
      "needs_background": "light"
     },
     "output_type": "display_data"
    }
   ],
   "source": [
    "plt.plot(train_history)\n",
    "plt.plot(val_history)"
   ]
  },
  {
   "cell_type": "markdown",
   "metadata": {},
   "source": [
    "# Улучшаем процесс тренировки\n",
    "\n",
    "Мы реализуем несколько ключевых оптимизаций, необходимых для тренировки современных нейросетей."
   ]
  },
  {
   "cell_type": "markdown",
   "metadata": {},
   "source": [
    "## Уменьшение скорости обучения (learning rate decay)\n",
    "\n",
    "Одна из необходимых оптимизаций во время тренировки нейронных сетей - постепенное уменьшение скорости обучения по мере тренировки.\n",
    "\n",
    "Один из стандартных методов - уменьшение скорости обучения (learning rate) каждые N эпох на коэффициент d (часто называемый decay). Значения N и d, как всегда, являются гиперпараметрами и должны подбираться на основе эффективности на проверочных данных (validation data). \n",
    "\n",
    "В нашем случае N будет равным 1."
   ]
  },
  {
   "cell_type": "code",
   "execution_count": 36,
   "metadata": {},
   "outputs": [
    {
     "name": "stdout",
     "output_type": "stream",
     "text": [
      "Loss: 2.289525, Train accuracy: 0.196667, val accuracy: 0.206000\n",
      "Loss: 2.253334, Train accuracy: 0.196667, val accuracy: 0.206000\n",
      "Loss: 2.341642, Train accuracy: 0.196667, val accuracy: 0.206000\n",
      "Loss: 2.230866, Train accuracy: 0.196667, val accuracy: 0.206000\n",
      "Loss: 2.313047, Train accuracy: 0.196667, val accuracy: 0.206000\n",
      "Loss: 2.355110, Train accuracy: 0.196667, val accuracy: 0.206000\n",
      "Loss: 2.283846, Train accuracy: 0.196667, val accuracy: 0.206000\n",
      "Loss: 2.248340, Train accuracy: 0.196667, val accuracy: 0.206000\n",
      "Loss: 2.239871, Train accuracy: 0.196667, val accuracy: 0.206000\n",
      "Loss: 2.347484, Train accuracy: 0.196667, val accuracy: 0.206000\n",
      "Loss: 2.283201, Train accuracy: 0.196667, val accuracy: 0.206000\n",
      "Loss: 2.315848, Train accuracy: 0.196667, val accuracy: 0.206000\n",
      "Loss: 2.374293, Train accuracy: 0.196667, val accuracy: 0.206000\n",
      "Loss: 2.227411, Train accuracy: 0.196667, val accuracy: 0.206000\n",
      "Loss: 2.365644, Train accuracy: 0.196667, val accuracy: 0.206000\n",
      "Loss: 2.286440, Train accuracy: 0.196667, val accuracy: 0.206000\n",
      "Loss: 2.261915, Train accuracy: 0.196667, val accuracy: 0.206000\n",
      "Loss: 2.274721, Train accuracy: 0.196667, val accuracy: 0.206000\n",
      "Loss: 2.330444, Train accuracy: 0.196667, val accuracy: 0.206000\n",
      "Loss: 2.306099, Train accuracy: 0.196667, val accuracy: 0.206000\n"
     ]
    }
   ],
   "source": [
    "# TODO Implement learning rate decay inside Trainer.fit method\n",
    "# Decay should happen once per epoch\n",
    "\n",
    "model = TwoLayerNet(n_input = train_X.shape[1], n_output = 10, hidden_layer_size = 100, reg = 1e-1)\n",
    "dataset = Dataset(train_X, train_y, val_X, val_y)\n",
    "trainer = Trainer(model, dataset, SGD(), learning_rate_decay=0.99)\n",
    "\n",
    "initial_learning_rate = trainer.learning_rate\n",
    "loss_history, train_history, val_history = trainer.fit()\n",
    "\n",
    "assert trainer.learning_rate < initial_learning_rate, \"Learning rate should've been reduced\"\n",
    "assert trainer.learning_rate > 0.5*initial_learning_rate, \"Learning rate shouldn'tve been reduced that much!\""
   ]
  },
  {
   "cell_type": "markdown",
   "metadata": {},
   "source": [
    "# Накопление импульса (Momentum SGD)\n",
    "\n",
    "Другой большой класс оптимизаций - использование более эффективных методов градиентного спуска. Мы реализуем один из них - накопление импульса (Momentum SGD).\n",
    "\n",
    "Этот метод хранит скорость движения, использует градиент для ее изменения на каждом шаге, и изменяет веса пропорционально значению скорости.\n",
    "(Физическая аналогия: Вместо скорости градиенты теперь будут задавать ускорение, но будет присутствовать сила трения.)\n",
    "\n",
    "```\n",
    "velocity = momentum * velocity - learning_rate * gradient \n",
    "w = w + velocity\n",
    "```\n",
    "\n",
    "`momentum` здесь коэффициент затухания, который тоже является гиперпараметром (к счастью, для него часто есть хорошее значение по умолчанию, типичный диапазон -- 0.8-0.99).\n",
    "\n",
    "Несколько полезных ссылок, где метод разбирается более подробно:  \n",
    "http://cs231n.github.io/neural-networks-3/#sgd  \n",
    "https://distill.pub/2017/momentum/"
   ]
  },
  {
   "cell_type": "code",
   "execution_count": 38,
   "metadata": {},
   "outputs": [
    {
     "name": "stdout",
     "output_type": "stream",
     "text": [
      "Loss: 2.320623, Train accuracy: 0.196667, val accuracy: 0.206000\n",
      "Loss: 2.322098, Train accuracy: 0.196667, val accuracy: 0.206000\n",
      "Loss: 2.303833, Train accuracy: 0.196667, val accuracy: 0.206000\n",
      "Loss: 2.314684, Train accuracy: 0.196667, val accuracy: 0.206000\n",
      "Loss: 2.310674, Train accuracy: 0.196667, val accuracy: 0.206000\n",
      "Loss: 2.289700, Train accuracy: 0.196667, val accuracy: 0.206000\n",
      "Loss: 2.276959, Train accuracy: 0.196667, val accuracy: 0.206000\n",
      "Loss: 2.279458, Train accuracy: 0.196667, val accuracy: 0.206000\n",
      "Loss: 2.326462, Train accuracy: 0.196667, val accuracy: 0.206000\n",
      "Loss: 2.324732, Train accuracy: 0.196667, val accuracy: 0.206000\n",
      "Loss: 2.255047, Train accuracy: 0.196667, val accuracy: 0.206000\n",
      "Loss: 2.347733, Train accuracy: 0.196667, val accuracy: 0.206000\n",
      "Loss: 2.228311, Train accuracy: 0.196667, val accuracy: 0.206000\n",
      "Loss: 2.271770, Train accuracy: 0.196667, val accuracy: 0.206000\n",
      "Loss: 2.289291, Train accuracy: 0.196667, val accuracy: 0.206000\n",
      "Loss: 2.301851, Train accuracy: 0.196667, val accuracy: 0.206000\n",
      "Loss: 2.302644, Train accuracy: 0.196667, val accuracy: 0.206000\n",
      "Loss: 2.285505, Train accuracy: 0.196667, val accuracy: 0.206000\n",
      "Loss: 2.311604, Train accuracy: 0.196667, val accuracy: 0.206000\n",
      "Loss: 2.264101, Train accuracy: 0.196667, val accuracy: 0.206000\n"
     ]
    }
   ],
   "source": [
    "# TODO: Implement MomentumSGD.update function in optim.py\n",
    "\n",
    "model = TwoLayerNet(n_input = train_X.shape[1], n_output = 10, hidden_layer_size = 100, reg = 1e-1)\n",
    "dataset = Dataset(train_X, train_y, val_X, val_y)\n",
    "trainer = Trainer(model, dataset, MomentumSGD(), learning_rate=1e-4, learning_rate_decay=0.99)\n",
    "\n",
    "# You should see even better results than before!\n",
    "loss_history, train_history, val_history = trainer.fit()"
   ]
  },
  {
   "cell_type": "markdown",
   "metadata": {},
   "source": [
    "# Ну что, давайте уже тренировать сеть!"
   ]
  },
  {
   "cell_type": "markdown",
   "metadata": {},
   "source": [
    "## Последний тест - переобучимся (overfit) на маленьком наборе данных\n",
    "\n",
    "Хороший способ проверить, все ли реализовано корректно - переобучить сеть на маленьком наборе данных.  \n",
    "Наша модель обладает достаточной мощностью, чтобы приблизить маленький набор данных идеально, поэтому мы ожидаем, что на нем мы быстро дойдем до 100% точности на тренировочном наборе. \n",
    "\n",
    "Если этого не происходит, то где-то была допущена ошибка!"
   ]
  },
  {
   "cell_type": "code",
   "execution_count": 42,
   "metadata": {},
   "outputs": [
    {
     "name": "stdout",
     "output_type": "stream",
     "text": [
      "Loss: 11.560812, Train accuracy: 0.200000, val accuracy: 0.066667\n",
      "Loss: 11.491724, Train accuracy: 0.200000, val accuracy: 0.133333\n",
      "Loss: 11.560480, Train accuracy: 0.200000, val accuracy: 0.133333\n",
      "Loss: 11.227293, Train accuracy: 0.200000, val accuracy: 0.133333\n",
      "Loss: 11.395512, Train accuracy: 0.200000, val accuracy: 0.133333\n",
      "Loss: 11.284120, Train accuracy: 0.200000, val accuracy: 0.133333\n",
      "Loss: 10.979939, Train accuracy: 0.200000, val accuracy: 0.133333\n",
      "Loss: 10.826353, Train accuracy: 0.266667, val accuracy: 0.000000\n",
      "Loss: 10.109301, Train accuracy: 0.333333, val accuracy: 0.000000\n",
      "Loss: 10.470681, Train accuracy: 0.400000, val accuracy: 0.000000\n",
      "Loss: 11.221048, Train accuracy: 0.400000, val accuracy: 0.000000\n",
      "Loss: 8.833415, Train accuracy: 0.400000, val accuracy: 0.000000\n",
      "Loss: 7.439731, Train accuracy: 0.400000, val accuracy: 0.000000\n",
      "Loss: 9.215696, Train accuracy: 0.333333, val accuracy: 0.000000\n",
      "Loss: 7.439919, Train accuracy: 0.333333, val accuracy: 0.000000\n",
      "Loss: 6.513562, Train accuracy: 0.333333, val accuracy: 0.000000\n",
      "Loss: 8.027545, Train accuracy: 0.333333, val accuracy: 0.000000\n",
      "Loss: 8.831123, Train accuracy: 0.333333, val accuracy: 0.000000\n",
      "Loss: 11.045115, Train accuracy: 0.400000, val accuracy: 0.000000\n",
      "Loss: 9.165696, Train accuracy: 0.400000, val accuracy: 0.000000\n",
      "Loss: 7.560557, Train accuracy: 0.400000, val accuracy: 0.000000\n",
      "Loss: 7.728260, Train accuracy: 0.400000, val accuracy: 0.000000\n",
      "Loss: 9.864000, Train accuracy: 0.466667, val accuracy: 0.000000\n",
      "Loss: 8.098690, Train accuracy: 0.466667, val accuracy: 0.000000\n",
      "Loss: 8.604289, Train accuracy: 0.400000, val accuracy: 0.066667\n",
      "Loss: 9.047871, Train accuracy: 0.466667, val accuracy: 0.066667\n",
      "Loss: 9.121075, Train accuracy: 0.466667, val accuracy: 0.000000\n",
      "Loss: 8.544118, Train accuracy: 0.466667, val accuracy: 0.000000\n",
      "Loss: 7.053839, Train accuracy: 0.466667, val accuracy: 0.000000\n",
      "Loss: 5.359848, Train accuracy: 0.466667, val accuracy: 0.066667\n",
      "Loss: 8.053201, Train accuracy: 0.533333, val accuracy: 0.066667\n",
      "Loss: 5.188712, Train accuracy: 0.466667, val accuracy: 0.066667\n",
      "Loss: 5.391484, Train accuracy: 0.466667, val accuracy: 0.066667\n",
      "Loss: 7.562251, Train accuracy: 0.533333, val accuracy: 0.066667\n",
      "Loss: 7.273043, Train accuracy: 0.600000, val accuracy: 0.066667\n",
      "Loss: 7.027273, Train accuracy: 0.600000, val accuracy: 0.066667\n",
      "Loss: 4.421545, Train accuracy: 0.533333, val accuracy: 0.066667\n",
      "Loss: 4.657011, Train accuracy: 0.600000, val accuracy: 0.066667\n",
      "Loss: 6.395909, Train accuracy: 0.600000, val accuracy: 0.066667\n",
      "Loss: 7.788088, Train accuracy: 0.600000, val accuracy: 0.066667\n",
      "Loss: 5.964315, Train accuracy: 0.600000, val accuracy: 0.066667\n",
      "Loss: 4.557010, Train accuracy: 0.600000, val accuracy: 0.066667\n",
      "Loss: 5.808049, Train accuracy: 0.666667, val accuracy: 0.066667\n",
      "Loss: 4.929202, Train accuracy: 0.666667, val accuracy: 0.066667\n",
      "Loss: 6.433540, Train accuracy: 0.733333, val accuracy: 0.000000\n",
      "Loss: 7.085628, Train accuracy: 0.733333, val accuracy: 0.066667\n",
      "Loss: 6.578911, Train accuracy: 0.733333, val accuracy: 0.066667\n",
      "Loss: 6.079524, Train accuracy: 0.733333, val accuracy: 0.000000\n",
      "Loss: 7.436958, Train accuracy: 0.733333, val accuracy: 0.000000\n",
      "Loss: 5.506261, Train accuracy: 0.733333, val accuracy: 0.066667\n",
      "Loss: 5.341461, Train accuracy: 0.733333, val accuracy: 0.066667\n",
      "Loss: 7.668145, Train accuracy: 0.733333, val accuracy: 0.133333\n",
      "Loss: 6.192693, Train accuracy: 0.733333, val accuracy: 0.066667\n",
      "Loss: 6.000811, Train accuracy: 0.733333, val accuracy: 0.133333\n",
      "Loss: 4.690821, Train accuracy: 0.733333, val accuracy: 0.066667\n",
      "Loss: 6.443439, Train accuracy: 0.733333, val accuracy: 0.133333\n",
      "Loss: 6.355553, Train accuracy: 0.733333, val accuracy: 0.066667\n",
      "Loss: 6.049128, Train accuracy: 0.733333, val accuracy: 0.066667\n",
      "Loss: 5.750156, Train accuracy: 0.733333, val accuracy: 0.066667\n",
      "Loss: 2.867468, Train accuracy: 0.733333, val accuracy: 0.000000\n",
      "Loss: 7.093662, Train accuracy: 0.733333, val accuracy: 0.066667\n",
      "Loss: 5.979218, Train accuracy: 0.733333, val accuracy: 0.066667\n",
      "Loss: 4.592053, Train accuracy: 0.733333, val accuracy: 0.066667\n",
      "Loss: 4.273801, Train accuracy: 0.733333, val accuracy: 0.066667\n",
      "Loss: 6.595394, Train accuracy: 0.733333, val accuracy: 0.066667\n",
      "Loss: 5.973864, Train accuracy: 0.733333, val accuracy: 0.066667\n",
      "Loss: 6.760465, Train accuracy: 0.800000, val accuracy: 0.066667\n",
      "Loss: 4.261062, Train accuracy: 0.800000, val accuracy: 0.066667\n",
      "Loss: 5.733185, Train accuracy: 0.800000, val accuracy: 0.066667\n",
      "Loss: 4.515863, Train accuracy: 0.800000, val accuracy: 0.066667\n",
      "Loss: 6.303819, Train accuracy: 0.800000, val accuracy: 0.066667\n",
      "Loss: 4.277272, Train accuracy: 0.866667, val accuracy: 0.066667\n",
      "Loss: 5.893187, Train accuracy: 0.800000, val accuracy: 0.066667\n",
      "Loss: 6.091264, Train accuracy: 0.866667, val accuracy: 0.066667\n",
      "Loss: 3.391227, Train accuracy: 0.866667, val accuracy: 0.066667\n",
      "Loss: 5.713877, Train accuracy: 0.933333, val accuracy: 0.066667\n",
      "Loss: 3.512324, Train accuracy: 0.933333, val accuracy: 0.066667\n",
      "Loss: 3.744074, Train accuracy: 0.933333, val accuracy: 0.066667\n",
      "Loss: 4.735959, Train accuracy: 0.933333, val accuracy: 0.066667\n",
      "Loss: 6.169226, Train accuracy: 0.933333, val accuracy: 0.066667\n",
      "Loss: 5.536272, Train accuracy: 0.933333, val accuracy: 0.066667\n",
      "Loss: 5.399012, Train accuracy: 0.933333, val accuracy: 0.066667\n",
      "Loss: 2.378269, Train accuracy: 0.933333, val accuracy: 0.066667\n",
      "Loss: 5.585338, Train accuracy: 0.933333, val accuracy: 0.066667\n",
      "Loss: 3.976599, Train accuracy: 0.933333, val accuracy: 0.066667\n",
      "Loss: 2.440348, Train accuracy: 0.933333, val accuracy: 0.066667\n",
      "Loss: 2.183756, Train accuracy: 0.933333, val accuracy: 0.066667\n",
      "Loss: 5.606454, Train accuracy: 0.933333, val accuracy: 0.066667\n",
      "Loss: 5.352534, Train accuracy: 0.933333, val accuracy: 0.000000\n",
      "Loss: 5.007511, Train accuracy: 0.933333, val accuracy: 0.000000\n",
      "Loss: 3.712012, Train accuracy: 0.933333, val accuracy: 0.000000\n",
      "Loss: 3.101536, Train accuracy: 0.933333, val accuracy: 0.066667\n",
      "Loss: 4.260495, Train accuracy: 0.933333, val accuracy: 0.000000\n",
      "Loss: 4.205578, Train accuracy: 0.933333, val accuracy: 0.000000\n",
      "Loss: 4.093946, Train accuracy: 0.933333, val accuracy: 0.000000\n",
      "Loss: 6.717006, Train accuracy: 0.933333, val accuracy: 0.000000\n",
      "Loss: 3.549505, Train accuracy: 0.933333, val accuracy: 0.000000\n",
      "Loss: 5.368279, Train accuracy: 0.933333, val accuracy: 0.000000\n",
      "Loss: 3.937682, Train accuracy: 0.933333, val accuracy: 0.000000\n",
      "Loss: 3.979945, Train accuracy: 0.933333, val accuracy: 0.000000\n",
      "Loss: 3.933626, Train accuracy: 0.933333, val accuracy: 0.000000\n",
      "Loss: 3.770454, Train accuracy: 0.933333, val accuracy: 0.000000\n",
      "Loss: 3.403442, Train accuracy: 0.933333, val accuracy: 0.000000\n",
      "Loss: 4.761302, Train accuracy: 0.933333, val accuracy: 0.000000\n",
      "Loss: 2.290570, Train accuracy: 0.933333, val accuracy: 0.000000\n",
      "Loss: 4.038566, Train accuracy: 0.933333, val accuracy: 0.000000\n",
      "Loss: 3.040386, Train accuracy: 0.933333, val accuracy: 0.000000\n",
      "Loss: 3.276412, Train accuracy: 0.933333, val accuracy: 0.000000\n",
      "Loss: 2.168029, Train accuracy: 0.933333, val accuracy: 0.000000\n",
      "Loss: 4.641198, Train accuracy: 1.000000, val accuracy: 0.000000\n",
      "Loss: 4.009190, Train accuracy: 1.000000, val accuracy: 0.000000\n",
      "Loss: 4.366902, Train accuracy: 0.933333, val accuracy: 0.000000\n",
      "Loss: 5.500137, Train accuracy: 1.000000, val accuracy: 0.000000\n",
      "Loss: 2.343803, Train accuracy: 0.933333, val accuracy: 0.000000\n",
      "Loss: 3.787371, Train accuracy: 0.933333, val accuracy: 0.000000\n",
      "Loss: 2.691866, Train accuracy: 0.933333, val accuracy: 0.000000\n",
      "Loss: 2.412721, Train accuracy: 1.000000, val accuracy: 0.000000\n",
      "Loss: 2.805623, Train accuracy: 1.000000, val accuracy: 0.000000\n",
      "Loss: 3.636480, Train accuracy: 1.000000, val accuracy: 0.000000\n",
      "Loss: 3.580218, Train accuracy: 1.000000, val accuracy: 0.000000\n",
      "Loss: 3.953228, Train accuracy: 1.000000, val accuracy: 0.000000\n",
      "Loss: 2.312602, Train accuracy: 0.933333, val accuracy: 0.000000\n",
      "Loss: 3.398276, Train accuracy: 0.933333, val accuracy: 0.000000\n",
      "Loss: 3.217986, Train accuracy: 1.000000, val accuracy: 0.000000\n",
      "Loss: 4.177335, Train accuracy: 0.933333, val accuracy: 0.000000\n",
      "Loss: 3.860421, Train accuracy: 1.000000, val accuracy: 0.000000\n",
      "Loss: 3.261486, Train accuracy: 1.000000, val accuracy: 0.000000\n",
      "Loss: 2.750995, Train accuracy: 1.000000, val accuracy: 0.000000\n",
      "Loss: 2.915263, Train accuracy: 1.000000, val accuracy: 0.000000\n",
      "Loss: 4.269088, Train accuracy: 1.000000, val accuracy: 0.000000\n",
      "Loss: 2.959851, Train accuracy: 1.000000, val accuracy: 0.000000\n",
      "Loss: 3.584305, Train accuracy: 1.000000, val accuracy: 0.000000\n",
      "Loss: 2.422006, Train accuracy: 1.000000, val accuracy: 0.000000\n",
      "Loss: 3.766299, Train accuracy: 1.000000, val accuracy: 0.000000\n",
      "Loss: 3.737190, Train accuracy: 1.000000, val accuracy: 0.000000\n",
      "Loss: 4.333798, Train accuracy: 1.000000, val accuracy: 0.000000\n",
      "Loss: 4.299016, Train accuracy: 1.000000, val accuracy: 0.000000\n",
      "Loss: 3.259863, Train accuracy: 1.000000, val accuracy: 0.000000\n",
      "Loss: 2.771928, Train accuracy: 1.000000, val accuracy: 0.000000\n",
      "Loss: 3.961013, Train accuracy: 1.000000, val accuracy: 0.000000\n",
      "Loss: 3.635827, Train accuracy: 1.000000, val accuracy: 0.000000\n",
      "Loss: 3.239111, Train accuracy: 1.000000, val accuracy: 0.000000\n",
      "Loss: 2.504425, Train accuracy: 1.000000, val accuracy: 0.000000\n",
      "Loss: 3.432271, Train accuracy: 1.000000, val accuracy: 0.000000\n",
      "Loss: 3.373137, Train accuracy: 1.000000, val accuracy: 0.000000\n",
      "Loss: 3.147549, Train accuracy: 1.000000, val accuracy: 0.000000\n",
      "Loss: 2.322686, Train accuracy: 1.000000, val accuracy: 0.000000\n",
      "Loss: 2.715304, Train accuracy: 1.000000, val accuracy: 0.000000\n",
      "Loss: 4.046604, Train accuracy: 1.000000, val accuracy: 0.000000\n",
      "Loss: 3.601980, Train accuracy: 1.000000, val accuracy: 0.000000\n"
     ]
    }
   ],
   "source": [
    "data_size = 15\n",
    "model = TwoLayerNet(n_input = train_X.shape[1], n_output = 10, hidden_layer_size = 100, reg = 1e-1)\n",
    "dataset = Dataset(train_X[:data_size], train_y[:data_size], val_X[:data_size], val_y[:data_size])\n",
    "trainer = Trainer(model, dataset, SGD(), learning_rate=1e-1, num_epochs=150, batch_size=5)\n",
    "\n",
    "# You should expect this to reach 1.0 training accuracy \n",
    "loss_history, train_history, val_history = trainer.fit()"
   ]
  },
  {
   "cell_type": "markdown",
   "metadata": {},
   "source": [
    "Теперь найдем гипепараметры, для которых этот процесс сходится быстрее.\n",
    "Если все реализовано корректно, то существуют параметры, при которых процесс сходится в **20** эпох или еще быстрее.\n",
    "Найдите их!"
   ]
  },
  {
   "cell_type": "code",
   "execution_count": 76,
   "metadata": {},
   "outputs": [
    {
     "name": "stdout",
     "output_type": "stream",
     "text": [
      "Loss: 11.536759, Train accuracy: 0.200000, val accuracy: 0.066667\n",
      "Loss: 11.432807, Train accuracy: 0.333333, val accuracy: 0.066667\n",
      "Loss: 11.487844, Train accuracy: 0.333333, val accuracy: 0.000000\n",
      "Loss: 11.591007, Train accuracy: 0.266667, val accuracy: 0.000000\n",
      "Loss: 11.336549, Train accuracy: 0.266667, val accuracy: 0.000000\n",
      "Loss: 11.272896, Train accuracy: 0.266667, val accuracy: 0.000000\n",
      "Loss: 11.369139, Train accuracy: 0.266667, val accuracy: 0.000000\n",
      "Loss: 11.205516, Train accuracy: 0.266667, val accuracy: 0.000000\n",
      "Loss: 11.141438, Train accuracy: 0.266667, val accuracy: 0.000000\n",
      "Loss: 11.255879, Train accuracy: 0.400000, val accuracy: 0.000000\n",
      "Loss: 9.962136, Train accuracy: 0.400000, val accuracy: 0.000000\n",
      "Loss: 10.405151, Train accuracy: 0.400000, val accuracy: 0.000000\n",
      "Loss: 9.979370, Train accuracy: 0.400000, val accuracy: 0.000000\n",
      "Loss: 10.376428, Train accuracy: 0.400000, val accuracy: 0.000000\n",
      "Loss: 8.837481, Train accuracy: 0.400000, val accuracy: 0.000000\n",
      "Loss: 9.761007, Train accuracy: 0.400000, val accuracy: 0.000000\n",
      "Loss: 10.560502, Train accuracy: 0.333333, val accuracy: 0.000000\n",
      "Loss: 9.925449, Train accuracy: 0.333333, val accuracy: 0.000000\n",
      "Loss: 9.298297, Train accuracy: 0.333333, val accuracy: 0.000000\n",
      "Loss: 6.170336, Train accuracy: 0.333333, val accuracy: 0.000000\n",
      "Loss: 7.988720, Train accuracy: 0.400000, val accuracy: 0.000000\n",
      "Loss: 8.302032, Train accuracy: 0.466667, val accuracy: 0.000000\n",
      "Loss: 9.758878, Train accuracy: 0.466667, val accuracy: 0.000000\n",
      "Loss: 8.596478, Train accuracy: 0.466667, val accuracy: 0.000000\n",
      "Loss: 5.798512, Train accuracy: 0.466667, val accuracy: 0.000000\n",
      "Loss: 5.878630, Train accuracy: 0.466667, val accuracy: 0.000000\n",
      "Loss: 7.071624, Train accuracy: 0.466667, val accuracy: 0.000000\n",
      "Loss: 7.125900, Train accuracy: 0.466667, val accuracy: 0.000000\n",
      "Loss: 7.904632, Train accuracy: 0.466667, val accuracy: 0.066667\n",
      "Loss: 5.703474, Train accuracy: 0.466667, val accuracy: 0.066667\n"
     ]
    }
   ],
   "source": [
    "# Now, tweak some hyper parameters and make it train to 1.0 accuracy in 20 epochs or less\n",
    "\n",
    "model = TwoLayerNet(n_input = train_X.shape[1], n_output = 10, hidden_layer_size = 300, reg = 0)\n",
    "dataset = Dataset(train_X[:data_size], train_y[:data_size], val_X[:data_size], val_y[:data_size])\n",
    "# TODO: Change any hyperparamers or optimizators to reach training accuracy in 20 epochs\n",
    "trainer = Trainer(model, dataset, SGD(), learning_rate=0.06, num_epochs=30, batch_size=5)\n",
    "\n",
    "loss_history, train_history, val_history = trainer.fit()"
   ]
  },
  {
   "cell_type": "markdown",
   "metadata": {},
   "source": [
    "# Итак, основное мероприятие!\n",
    "\n",
    "Натренируйте лучшую нейросеть! Можно добавлять и изменять параметры, менять количество нейронов в слоях сети и как угодно экспериментировать. \n",
    "\n",
    "Добейтесь точности лучше **60%** на validation set."
   ]
  },
  {
   "cell_type": "code",
   "execution_count": 81,
   "metadata": {
    "scrolled": true
   },
   "outputs": [
    {
     "name": "stdout",
     "output_type": "stream",
     "text": [
      "Loss: 215.795552, Train accuracy: 0.274444, val accuracy: 0.284000\n",
      "Loss: 155.979095, Train accuracy: 0.491556, val accuracy: 0.498000\n",
      "Loss: 124.814072, Train accuracy: 0.595333, val accuracy: 0.604000\n",
      "Loss: 132.880276, Train accuracy: 0.627667, val accuracy: 0.614000\n",
      "Loss: 104.457573, Train accuracy: 0.673556, val accuracy: 0.620000\n",
      "Loss: 138.922296, Train accuracy: 0.675778, val accuracy: 0.639000\n",
      "Loss: 87.978708, Train accuracy: 0.708889, val accuracy: 0.661000\n",
      "Loss: 131.881536, Train accuracy: 0.730111, val accuracy: 0.682000\n",
      "Loss: 90.556967, Train accuracy: 0.696889, val accuracy: 0.650000\n",
      "Loss: 92.276432, Train accuracy: 0.737778, val accuracy: 0.666000\n",
      "Loss: 78.222427, Train accuracy: 0.751778, val accuracy: 0.684000\n",
      "Loss: 85.825027, Train accuracy: 0.777000, val accuracy: 0.708000\n",
      "Loss: 96.475378, Train accuracy: 0.794444, val accuracy: 0.718000\n",
      "Loss: 80.020883, Train accuracy: 0.797111, val accuracy: 0.715000\n",
      "Loss: 72.090385, Train accuracy: 0.760444, val accuracy: 0.683000\n",
      "Loss: 85.292141, Train accuracy: 0.778889, val accuracy: 0.678000\n",
      "Loss: 47.409184, Train accuracy: 0.820222, val accuracy: 0.721000\n",
      "Loss: 64.099965, Train accuracy: 0.822778, val accuracy: 0.722000\n",
      "Loss: 69.981888, Train accuracy: 0.810556, val accuracy: 0.707000\n",
      "Loss: 44.796856, Train accuracy: 0.801111, val accuracy: 0.717000\n",
      "Loss: 66.643065, Train accuracy: 0.829778, val accuracy: 0.721000\n",
      "Loss: 63.103852, Train accuracy: 0.844333, val accuracy: 0.719000\n",
      "Loss: 50.525674, Train accuracy: 0.834667, val accuracy: 0.723000\n",
      "Loss: 47.529604, Train accuracy: 0.806444, val accuracy: 0.686000\n",
      "Loss: 67.396537, Train accuracy: 0.822333, val accuracy: 0.719000\n",
      "Loss: 68.952070, Train accuracy: 0.806222, val accuracy: 0.709000\n",
      "Loss: 57.200640, Train accuracy: 0.845000, val accuracy: 0.726000\n",
      "Loss: 69.145607, Train accuracy: 0.833778, val accuracy: 0.727000\n",
      "Loss: 43.359910, Train accuracy: 0.854222, val accuracy: 0.727000\n",
      "Loss: 59.939801, Train accuracy: 0.847667, val accuracy: 0.719000\n",
      "best validation accuracy achieved: 0.727000\n"
     ]
    }
   ],
   "source": [
    "# Let's train the best one-hidden-layer network we can\n",
    "\n",
    "learning_rates = 1e-4\n",
    "reg_strength = 1e-3\n",
    "learning_rate_decay = 0.999\n",
    "hidden_layer_size = 128\n",
    "num_epochs = 200\n",
    "batch_size = 64\n",
    "\n",
    "best_classifier = None\n",
    "best_val_accuracy = None\n",
    "\n",
    "loss_history = []\n",
    "train_history = []\n",
    "val_history = []\n",
    "\n",
    "# TODO find the best hyperparameters to train the network\n",
    "# Don't hesitate to add new values to the arrays above, perform experiments, use any tricks you want\n",
    "# You should expect to get to at least 40% of valudation accuracy\n",
    "# Save loss/train/history of the best classifier to the variables above\n",
    "\n",
    "model = TwoLayerNet(n_input = train_X.shape[1], n_output = 10, hidden_layer_size = 100, reg = 1e-4)\n",
    "dataset = Dataset(train_X, train_y, val_X, val_y)\n",
    "trainer = Trainer(model, dataset, MomentumSGD(), learning_rate=1e-1, num_epochs=30, batch_size=100)\n",
    "loss_history, train_history, val_history = trainer.fit()\n",
    "best_val_accuracy = np.max(val_history)\n",
    "\n",
    "print('best validation accuracy achieved: %f' % best_val_accuracy)"
   ]
  },
  {
   "cell_type": "code",
   "execution_count": 82,
   "metadata": {},
   "outputs": [
    {
     "data": {
      "text/plain": [
       "[<matplotlib.lines.Line2D at 0x7fdca2bedc70>]"
      ]
     },
     "execution_count": 82,
     "metadata": {},
     "output_type": "execute_result"
    },
    {
     "data": {
      "image/png": "[encoded data removed]",
      "text/plain": [
       "<Figure size 1080x504 with 2 Axes>"
      ]
     },
     "metadata": {
      "needs_background": "light"
     },
     "output_type": "display_data"
    }
   ],
   "source": [
    "plt.figure(figsize=(15, 7))\n",
    "plt.subplot(211)\n",
    "plt.title(\"Loss\")\n",
    "plt.plot(loss_history)\n",
    "plt.subplot(212)\n",
    "plt.title(\"Train/validation accuracy\")\n",
    "plt.plot(train_history)\n",
    "plt.plot(val_history)"
   ]
  },
  {
   "cell_type": "markdown",
   "metadata": {},
   "source": [
    "# Как обычно, посмотрим, как наша лучшая модель работает на тестовых данных"
   ]
  },
  {
   "cell_type": "code",
   "execution_count": 85,
   "metadata": {},
   "outputs": [],
   "source": [
    "best_classifier = model"
   ]
  },
  {
   "cell_type": "code",
   "execution_count": 86,
   "metadata": {},
   "outputs": [
    {
     "name": "stdout",
     "output_type": "stream",
     "text": [
      "Neural net test set accuracy: 0.682000\n"
     ]
    }
   ],
   "source": [
    "test_pred = best_classifier.predict(test_X)\n",
    "test_accuracy = multiclass_accuracy(test_pred, test_y)\n",
    "print('Neural net test set accuracy: %f' % (test_accuracy, ))"
   ]
  }
 ],
 "metadata": {
  "kernelspec": {
   "display_name": "conda_base",
   "language": "python",
   "name": "conda_base"
  },
  "language_info": {
   "codemirror_mode": {
    "name": "ipython",
    "version": 3
   },
   "file_extension": ".py",
   "mimetype": "text/x-python",
   "name": "python",
   "nbconvert_exporter": "python",
   "pygments_lexer": "ipython3",
   "version": "3.8.5"
  }
 },
 "nbformat": 4,
 "nbformat_minor": 4
}
